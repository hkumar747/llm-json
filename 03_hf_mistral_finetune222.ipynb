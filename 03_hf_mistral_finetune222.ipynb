{
  "cells": [
    {
      "cell_type": "markdown",
      "metadata": {
        "id": "view-in-github",
        "colab_type": "text"
      },
      "source": [
        "<a href=\"https://colab.research.google.com/github/hkumar747/llm-json/blob/main/03_hf_mistral_finetune222.ipynb\" target=\"_parent\"><img src=\"https://colab.research.google.com/assets/colab-badge.svg\" alt=\"Open In Colab\"/></a>"
      ]
    },
    {
      "cell_type": "markdown",
      "metadata": {
        "id": "JujnHObVWeP5"
      },
      "source": [
        "# Parameter efficient fine-tuning Mistral-7b\n",
        "\n",
        "### Quantized Low Rank Adaptation of Large Language Models (QLoRA)\n",
        "\n",
        "\n",
        "\n",
        "This notebook walks through fine-tuning an open source LLM from HuggingFace, Mistral-7b using quantization and LoRA, two recent scientific breakthroughs which allow language models to be trained at a fraction of the compute cost.\n",
        "\n",
        "The task is the same as in the first notebook with OpenAI, extracting information in JSON format from passages.\n",
        "\n",
        "\n"
      ]
    },
    {
      "cell_type": "markdown",
      "metadata": {
        "id": "lkhsiPd8WeP6"
      },
      "source": [
        "## Use case: We need a customized model for extracting structured data from permit notices.\n"
      ]
    },
    {
      "cell_type": "code",
      "execution_count": 1,
      "metadata": {
        "colab": {
          "base_uri": "https://localhost:8080/"
        },
        "id": "ZXciMxfSWeP7",
        "outputId": "0dc72ffd-72b5-4e24-8dd5-ee224efab479"
      },
      "outputs": [
        {
          "output_type": "stream",
          "name": "stdout",
          "text": [
            "\u001b[2K     \u001b[90m━━━━━━━━━━━━━━━━━━━━━━━━━━━━━━━━━━━━━━━━\u001b[0m \u001b[32m174.7/174.7 kB\u001b[0m \u001b[31m4.1 MB/s\u001b[0m eta \u001b[36m0:00:00\u001b[0m\n",
            "\u001b[2K     \u001b[90m━━━━━━━━━━━━━━━━━━━━━━━━━━━━━━━━━━━━━━━━\u001b[0m \u001b[32m7.9/7.9 MB\u001b[0m \u001b[31m27.5 MB/s\u001b[0m eta \u001b[36m0:00:00\u001b[0m\n",
            "\u001b[2K     \u001b[90m━━━━━━━━━━━━━━━━━━━━━━━━━━━━━━━━━━━━━━━━\u001b[0m \u001b[32m521.2/521.2 kB\u001b[0m \u001b[31m34.1 MB/s\u001b[0m eta \u001b[36m0:00:00\u001b[0m\n",
            "\u001b[2K     \u001b[90m━━━━━━━━━━━━━━━━━━━━━━━━━━━━━━━━━━━━━━━━\u001b[0m \u001b[32m92.6/92.6 MB\u001b[0m \u001b[31m19.1 MB/s\u001b[0m eta \u001b[36m0:00:00\u001b[0m\n",
            "\u001b[2K     \u001b[90m━━━━━━━━━━━━━━━━━━━━━━━━━━━━━━━━━━━━━━━━\u001b[0m \u001b[32m133.9/133.9 kB\u001b[0m \u001b[31m15.6 MB/s\u001b[0m eta \u001b[36m0:00:00\u001b[0m\n",
            "\u001b[2K     \u001b[90m━━━━━━━━━━━━━━━━━━━━━━━━━━━━━━━━━━━━━━━━\u001b[0m \u001b[32m261.4/261.4 kB\u001b[0m \u001b[31m27.5 MB/s\u001b[0m eta \u001b[36m0:00:00\u001b[0m\n",
            "\u001b[2K     \u001b[90m━━━━━━━━━━━━━━━━━━━━━━━━━━━━━━━━━━━━━━━━\u001b[0m \u001b[32m2.2/2.2 MB\u001b[0m \u001b[31m75.4 MB/s\u001b[0m eta \u001b[36m0:00:00\u001b[0m\n",
            "\u001b[2K     \u001b[90m━━━━━━━━━━━━━━━━━━━━━━━━━━━━━━━━━━━━━━━━\u001b[0m \u001b[32m115.3/115.3 kB\u001b[0m \u001b[31m13.7 MB/s\u001b[0m eta \u001b[36m0:00:00\u001b[0m\n",
            "\u001b[2K     \u001b[90m━━━━━━━━━━━━━━━━━━━━━━━━━━━━━━━━━━━━━━━━\u001b[0m \u001b[32m194.1/194.1 kB\u001b[0m \u001b[31m21.0 MB/s\u001b[0m eta \u001b[36m0:00:00\u001b[0m\n",
            "\u001b[2K     \u001b[90m━━━━━━━━━━━━━━━━━━━━━━━━━━━━━━━━━━━━━━━━\u001b[0m \u001b[32m134.8/134.8 kB\u001b[0m \u001b[31m16.7 MB/s\u001b[0m eta \u001b[36m0:00:00\u001b[0m\n",
            "\u001b[2K     \u001b[90m━━━━━━━━━━━━━━━━━━━━━━━━━━━━━━━━━━━━━━━━\u001b[0m \u001b[32m79.8/79.8 kB\u001b[0m \u001b[31m9.6 MB/s\u001b[0m eta \u001b[36m0:00:00\u001b[0m\n",
            "\u001b[2K     \u001b[90m━━━━━━━━━━━━━━━━━━━━━━━━━━━━━━━━━━━━━━━━\u001b[0m \u001b[32m195.4/195.4 kB\u001b[0m \u001b[31m22.0 MB/s\u001b[0m eta \u001b[36m0:00:00\u001b[0m\n",
            "\u001b[2K     \u001b[90m━━━━━━━━━━━━━━━━━━━━━━━━━━━━━━━━━━━━━━━━\u001b[0m \u001b[32m264.6/264.6 kB\u001b[0m \u001b[31m25.3 MB/s\u001b[0m eta \u001b[36m0:00:00\u001b[0m\n",
            "\u001b[2K     \u001b[90m━━━━━━━━━━━━━━━━━━━━━━━━━━━━━━━━━━━━━━━━\u001b[0m \u001b[32m62.7/62.7 kB\u001b[0m \u001b[31m8.1 MB/s\u001b[0m eta \u001b[36m0:00:00\u001b[0m\n",
            "\u001b[2K     \u001b[90m━━━━━━━━━━━━━━━━━━━━━━━━━━━━━━━━━━━━━━━━\u001b[0m \u001b[32m23.7/23.7 MB\u001b[0m \u001b[31m64.6 MB/s\u001b[0m eta \u001b[36m0:00:00\u001b[0m\n",
            "\u001b[2K     \u001b[90m━━━━━━━━━━━━━━━━━━━━━━━━━━━━━━━━━━━━━━━━\u001b[0m \u001b[32m823.6/823.6 kB\u001b[0m \u001b[31m62.2 MB/s\u001b[0m eta \u001b[36m0:00:00\u001b[0m\n",
            "\u001b[2K     \u001b[90m━━━━━━━━━━━━━━━━━━━━━━━━━━━━━━━━━━━━━━━━\u001b[0m \u001b[32m14.1/14.1 MB\u001b[0m \u001b[31m89.4 MB/s\u001b[0m eta \u001b[36m0:00:00\u001b[0m\n",
            "\u001b[2K     \u001b[90m━━━━━━━━━━━━━━━━━━━━━━━━━━━━━━━━━━━━━━━━\u001b[0m \u001b[32m731.7/731.7 MB\u001b[0m \u001b[31m2.6 MB/s\u001b[0m eta \u001b[36m0:00:00\u001b[0m\n",
            "\u001b[2K     \u001b[90m━━━━━━━━━━━━━━━━━━━━━━━━━━━━━━━━━━━━━━━━\u001b[0m \u001b[32m410.6/410.6 MB\u001b[0m \u001b[31m3.1 MB/s\u001b[0m eta \u001b[36m0:00:00\u001b[0m\n",
            "\u001b[2K     \u001b[90m━━━━━━━━━━━━━━━━━━━━━━━━━━━━━━━━━━━━━━━━\u001b[0m \u001b[32m121.6/121.6 MB\u001b[0m \u001b[31m14.1 MB/s\u001b[0m eta \u001b[36m0:00:00\u001b[0m\n",
            "\u001b[2K     \u001b[90m━━━━━━━━━━━━━━━━━━━━━━━━━━━━━━━━━━━━━━━━\u001b[0m \u001b[32m56.5/56.5 MB\u001b[0m \u001b[31m30.6 MB/s\u001b[0m eta \u001b[36m0:00:00\u001b[0m\n",
            "\u001b[2K     \u001b[90m━━━━━━━━━━━━━━━━━━━━━━━━━━━━━━━━━━━━━━━━\u001b[0m \u001b[32m124.2/124.2 MB\u001b[0m \u001b[31m8.4 MB/s\u001b[0m eta \u001b[36m0:00:00\u001b[0m\n",
            "\u001b[2K     \u001b[90m━━━━━━━━━━━━━━━━━━━━━━━━━━━━━━━━━━━━━━━━\u001b[0m \u001b[32m196.0/196.0 MB\u001b[0m \u001b[31m5.1 MB/s\u001b[0m eta \u001b[36m0:00:00\u001b[0m\n",
            "\u001b[2K     \u001b[90m━━━━━━━━━━━━━━━━━━━━━━━━━━━━━━━━━━━━━━━━\u001b[0m \u001b[32m166.0/166.0 MB\u001b[0m \u001b[31m6.4 MB/s\u001b[0m eta \u001b[36m0:00:00\u001b[0m\n",
            "\u001b[2K     \u001b[90m━━━━━━━━━━━━━━━━━━━━━━━━━━━━━━━━━━━━━━━━\u001b[0m \u001b[32m99.1/99.1 kB\u001b[0m \u001b[31m13.5 MB/s\u001b[0m eta \u001b[36m0:00:00\u001b[0m\n",
            "\u001b[2K     \u001b[90m━━━━━━━━━━━━━━━━━━━━━━━━━━━━━━━━━━━━━━━━\u001b[0m \u001b[32m21.1/21.1 MB\u001b[0m \u001b[31m81.7 MB/s\u001b[0m eta \u001b[36m0:00:00\u001b[0m\n",
            "\u001b[2K     \u001b[90m━━━━━━━━━━━━━━━━━━━━━━━━━━━━━━━━━━━━━━━━\u001b[0m \u001b[32m134.8/134.8 kB\u001b[0m \u001b[31m16.0 MB/s\u001b[0m eta \u001b[36m0:00:00\u001b[0m\n",
            "\u001b[?25h"
          ]
        }
      ],
      "source": [
        "#  !pip -q install git+https://github.com/huggingface/transformers # need to install from github\n",
        "# https://blog.paperspace.com/mistral-7b-fine-tuning/\n",
        "\n",
        "# !pip install transformers==4.35.2 trl langchain accelerate torch bitsandbytes peft datasets -qU\n",
        "# !pip install -q datasets loralib sentencepiece xformers einops\n",
        "!pip install -q -U peft==0.6.2 transformers==4.35.2 datasets==2.15.0 bitsandbytes==0.41.2.post2 trl==0.7.4 accelerate==0.24.1 wandb"
      ]
    },
    {
      "cell_type": "markdown",
      "metadata": {
        "id": "NlSaqydFWeP7"
      },
      "source": [
        "## Parameter Efficient Fine Tuning with LoRA\n",
        "\n",
        "\n",
        "https://heidloff.net/article/efficient-fine-tuning-lora/\n",
        "\n",
        "https://towardsdatascience.com/implementing-lora-from-scratch-20f838b046f1\n",
        "\n",
        "`verbatim`\n",
        "PEFT, or Parameter-Efficient Fine-Tuning (PEFT), is a library for efficiently adapting pre-trained language models to downstream applications without without the need to re-train or fine-tune all the parameters.\n",
        "\n",
        "One main form of PEFT is Low Rank Adaptation (LoRA) of large language models, based on the concept of rank of matrices in linear algebra.\n",
        "\n",
        "```\n",
        "LoRA is a method for fine-tuning language models without altering the original model parameters. In practical fine-tuning tasks, a set of low-rank adapters is added alongside specific model layers to be trained. In the original paper, the adapters were only added to two attention layers. The output dimensions of these adapters match those of the original model layers exactly.\n",
        "\n",
        "Subsequently, the adapters are set to be trainable, while the original model parameters are frozen and not allowed to be trained. This approach allows for the training of large language models without affecting inference speed significantly and only slightly increasing the parameter count.\n",
        "```\n",
        "\n",
        "\n",
        "\"common pre-trained models have a very low intrinsic dimension; in other words, there exists a low dimension reparameterization that is as effective for fine-tuning as the full parameter space.\"\n",
        "https://arxiv.org/abs/2012.13255\n",
        "\n",
        "\n",
        "Instead of adjusting the entire weight matrix (which is part of the linear transformations in the model's layers), LoRA introduces additional low-rank matrices that modify the original weight matrices in a more parameter-efficient manner. This process allows for targeted adaptations that significantly alter the model's behavior\n",
        "\n",
        "\n",
        "<img src=\"images/peft_heidloff.png\" alt=\"Descriptive text about the image\" width=\"600\"/>\n",
        "\n",
        "Source: [Niklas Heidloff](https://heidloff.net/article/efficient-fine-tuning-lora/)\n",
        "\n",
        "\n",
        "**SVD and matrix rank**\n",
        "https://sebastianraschka.com/blog/2023/llm-finetuning-lora.html\n",
        "\"The overall idea and concept are related to principal component analysis (PCA) and singular value decomposition (SVD), where we approximate a high-dimensional matrix or dataset using a lower-dimensional representation. In other words, we try to find a (linear) combination of a small number of dimensions in the original feature space (or matrix) that can capture most of the information in the dataset.\"\n",
        "\n",
        "**Remember:** Large Language Models (LLMs) are simply lots of matrices (or tensors) of numbers.\n",
        "\n",
        "\n",
        "\n",
        "**PEFT supported models**\n",
        "\n",
        "HuggingFace has a list of 10 models for which LoRA adapters are available:\n",
        "https://huggingface.co/docs/peft/index#supported-models\n",
        "\n",
        "\n"
      ]
    },
    {
      "cell_type": "markdown",
      "metadata": {
        "id": "O1xcNvN0WeP8"
      },
      "source": [
        "## Selecting a model\n",
        "\n",
        "\n",
        "Look at the [HF leaderboard of open LLMS](https://huggingface.co/spaces/HuggingFaceH4/open_llm_leaderboard).\n",
        "\n",
        "There are multiple benchmarks to score LLMs, each designed for different linguistic, reasoning or numeric tasks.\n",
        "\n",
        "\n",
        "**Benchmarks:**\n",
        "\n",
        "\n",
        "**1. ARC (AI2 Reasoning Challenge)**\n",
        "ARC challenges models on grade-school level multiple-choice science questions. It's designed to test a model's reasoning and knowledge.\n",
        "\n",
        "\n",
        "**2. HellaSwag**\n",
        "HellaSwag is a benchmark for commonsense reasoning, predicting the endings of a given scenario in both textual and video contexts.\n",
        "\n",
        "\n",
        "**3. MMLU (Massive Multitask Language Understanding)**\n",
        "MMLU evaluates language models across a wide range of subjects and disciplines, testing the model's understanding on diverse topics.\n",
        "\n",
        "**4. TruthfulQA**\n",
        "This benchmark tests models on providing truthful answers, focusing on avoiding hallucinations and sticking to factual responses.\n",
        "\n",
        "\n",
        "**5. Winogrande**\n",
        "Winogrande is a dataset for commonsense reasoning, designed as an improved and scaled-up version of the Winograd Schema Challenge.\n",
        "\n",
        "\n",
        "**6. GSM8K (Grade School Math 8K)**\n",
        "GSM8K tests models on solving grade-school level math problems presented in textual form.\n",
        "\n",
        "\n",
        "Without admittedly delving too deep into it (maybe one of the above benchmarks has JSON tasks), common-sense reasoning would say TruthfulQA is the most relevant benchmark for this task. It mostly doesn't require any external knowledge of the world (caveat: impacts on wetland), just the ability to not hallucinate or be inaccurate when it transcribes from the text to the dictionary.\n",
        "\n",
        "In any case, we will be fine-tuning the Mistral-7b model.\n",
        "\n",
        "The following resources are helpful for understanding this notebook:\n",
        "\n",
        "- [Mistral](https://www.datacamp.com/tutorial/mistral-7b-tutorial)\n",
        "\n",
        "- [Mixtral](https://github.com/brevdev/notebooks/blob/main/mixtral-finetune-own-data.ipynb)\n",
        "\n",
        "- [huggingFace Transformers Training](https://huggingface.co/docs/transformers/en/training)\n"
      ]
    },
    {
      "cell_type": "markdown",
      "metadata": {
        "id": "20vqKfY6WeP8"
      },
      "source": [
        "### Weights & Biases for tracking metrics\n",
        "\n",
        "Use Weights & Biases to track training metrics. Enter your API key when prompted."
      ]
    },
    {
      "cell_type": "code",
      "execution_count": 2,
      "metadata": {
        "colab": {
          "base_uri": "https://localhost:8080/",
          "height": 104
        },
        "id": "nieXrYd9WeP8",
        "outputId": "47150a19-8d64-4041-cefd-a7877a4e3bcb"
      },
      "outputs": [
        {
          "output_type": "display_data",
          "data": {
            "text/plain": [
              "<IPython.core.display.Javascript object>"
            ],
            "application/javascript": [
              "\n",
              "        window._wandbApiKey = new Promise((resolve, reject) => {\n",
              "            function loadScript(url) {\n",
              "            return new Promise(function(resolve, reject) {\n",
              "                let newScript = document.createElement(\"script\");\n",
              "                newScript.onerror = reject;\n",
              "                newScript.onload = resolve;\n",
              "                document.body.appendChild(newScript);\n",
              "                newScript.src = url;\n",
              "            });\n",
              "            }\n",
              "            loadScript(\"https://cdn.jsdelivr.net/npm/postmate/build/postmate.min.js\").then(() => {\n",
              "            const iframe = document.createElement('iframe')\n",
              "            iframe.style.cssText = \"width:0;height:0;border:none\"\n",
              "            document.body.appendChild(iframe)\n",
              "            const handshake = new Postmate({\n",
              "                container: iframe,\n",
              "                url: 'https://wandb.ai/authorize'\n",
              "            });\n",
              "            const timeout = setTimeout(() => reject(\"Couldn't auto authenticate\"), 5000)\n",
              "            handshake.then(function(child) {\n",
              "                child.on('authorize', data => {\n",
              "                    clearTimeout(timeout)\n",
              "                    resolve(data)\n",
              "                });\n",
              "            });\n",
              "            })\n",
              "        });\n",
              "    "
            ]
          },
          "metadata": {}
        },
        {
          "output_type": "stream",
          "name": "stderr",
          "text": [
            "\u001b[34m\u001b[1mwandb\u001b[0m: Logging into wandb.ai. (Learn how to deploy a W&B server locally: https://wandb.me/wandb-server)\n",
            "\u001b[34m\u001b[1mwandb\u001b[0m: You can find your API key in your browser here: https://wandb.ai/authorize\n",
            "wandb: Paste an API key from your profile and hit enter, or press ctrl+c to quit:"
          ]
        },
        {
          "name": "stdout",
          "output_type": "stream",
          "text": [
            " ··········\n"
          ]
        },
        {
          "output_type": "stream",
          "name": "stderr",
          "text": [
            "\u001b[34m\u001b[1mwandb\u001b[0m: Appending key for api.wandb.ai to your netrc file: /root/.netrc\n"
          ]
        }
      ],
      "source": [
        "!pip install -q wandb -U\n",
        "\n",
        "import wandb, os\n",
        "wandb.login()\n",
        "\n",
        "wandb_project = \"mistral-7b-usace-finetune_v2\"\n",
        "os.environ[\"WANDB_PROJECT\"] = wandb_project"
      ]
    },
    {
      "cell_type": "markdown",
      "metadata": {
        "id": "3H1Y9s4TWeP8"
      },
      "source": [
        "## Load training dataset\n",
        "\n",
        "It just needs to be a dataset of input-output pairs. The phrase 'supervised fine tuning' signals an image of a dataset of (vectors) of inputs and output, as in supervised learning. But that would be misleading - here the Xs and Ys are concatenated together into strings of continuous tokens, interspersed with special tokens which marks inputs and outputs.\n",
        "\n",
        "Basically, the dataset consists of input-output pairs like:\n",
        "\n",
        "**Input**\n",
        ">The applicant seeks author ization to construct a single-family residence on the 2.09-acre parcel, including the permanent fill and loss of  0.78 acres of mangrove wetlands.\n",
        "\n",
        "\n",
        "**Output**\n",
        ">\n",
        "\n",
        ">>{'wetlands': [\n",
        ">  {'**wetland_type**': 'mangrove wetlands',\n",
        "\n",
        "> >  '**impact_quantity**': 0.78,\n",
        "\n",
        " > > '**impact_unit**': 'acres',\n",
        "\n",
        "  > >'**impact_type**': 'fill',\n",
        "   \n",
        "   >> '**impact_duration**': 'permanent'}]}\n",
        ">\n",
        "\n"
      ]
    },
    {
      "cell_type": "code",
      "execution_count": null,
      "metadata": {
        "id": "AjLSuyJEWeP8"
      },
      "outputs": [],
      "source": [
        "from datasets import load_dataset\n",
        "\n",
        "instruct_tune_dataset = load_dataset(\"mosaicml/instruct-v3\")\n",
        "instruct_tune_dataset\n",
        "\n",
        "type(instruct_tune_dataset)\n",
        "\n",
        "instruct_tune_dataset['train']"
      ]
    },
    {
      "cell_type": "code",
      "execution_count": null,
      "metadata": {
        "id": "rSm5u7UuWeP8"
      },
      "outputs": [],
      "source": []
    },
    {
      "cell_type": "markdown",
      "metadata": {
        "id": "lcuNqCiUWeP9"
      },
      "source": [
        "\n",
        "### Convert from OpenAI JSONL to HuggingFace Dataset\n",
        "\n",
        "https://huggingface.co/transformers/v3.2.0/custom_datasets.html\n",
        "\n",
        "\n",
        "Load the JSONL file of verified input-output pairs we used in notebook 2. (This step assumes you've already connverted them into JSONL format for OpenAI.) The following step will convert these into a format suitable for HuggingFace."
      ]
    },
    {
      "cell_type": "code",
      "execution_count": 4,
      "metadata": {
        "colab": {
          "base_uri": "https://localhost:8080/"
        },
        "id": "4onOYkfNWeP9",
        "outputId": "8986001d-35f9-4046-a941-c521233c3f09"
      },
      "outputs": [
        {
          "output_type": "stream",
          "name": "stdout",
          "text": [
            "Train Dataset:\n",
            "Dataset({\n",
            "    features: ['system', 'user', 'assistant'],\n",
            "    num_rows: 88\n",
            "})\n"
          ]
        }
      ],
      "source": [
        "from datasets import Dataset\n",
        "from pathlib import Path\n",
        "import json\n",
        "def load_jsonl_to_dataset(jsonl_file_path):\n",
        "    # Initialize lists to hold the values for each field\n",
        "    system_messages = []\n",
        "    user_messages = []\n",
        "    assistant_messages = []\n",
        "\n",
        "    # Open and read the JSONL file\n",
        "    with open(jsonl_file_path, 'r', encoding='utf-8') as file:\n",
        "        for line in file:\n",
        "            data = json.loads(line)\n",
        "            system_msg = user_msg = assistant_msg = None  # Reset for each entry\n",
        "\n",
        "            # Iterate over messages and extract content based on role\n",
        "            for message in data['messages']:\n",
        "                if message['role'] == 'system':\n",
        "                    system_msg = message['content']\n",
        "                elif message['role'] == 'user':\n",
        "                    user_msg = message['content']\n",
        "                elif message['role'] == 'assistant':\n",
        "                    assistant_msg = message['content']\n",
        "\n",
        "            # Append messages to their respective lists\n",
        "            system_messages.append(system_msg)\n",
        "            user_messages.append(user_msg)\n",
        "            assistant_messages.append(assistant_msg)\n",
        "\n",
        "    # Construct a dictionary with these lists\n",
        "    data_dict = {\n",
        "        'system': system_messages,\n",
        "        'user': user_messages,\n",
        "        'assistant': assistant_messages\n",
        "    }\n",
        "\n",
        "    # Convert the dictionary to a Hugging Face Dataset\n",
        "    dataset = Dataset.from_dict(data_dict)\n",
        "\n",
        "    return dataset\n",
        "\n",
        "\n",
        "train_dataset = load_jsonl_to_dataset(\"usace_finetune_training.jsonl\")\n",
        "val_dataset = load_jsonl_to_dataset(\"usace_finetune_validation.jsonl\")\n",
        "\n",
        "# Displaying the structure of the train dataset as an example\n",
        "print(f\"Train Dataset:\\n{train_dataset}\")"
      ]
    },
    {
      "cell_type": "markdown",
      "source": [
        "#### Instruction:"
      ],
      "metadata": {
        "id": "zQNbI3vMiJsb"
      }
    },
    {
      "cell_type": "code",
      "source": [
        "train_dataset[5]['system']\n"
      ],
      "metadata": {
        "colab": {
          "base_uri": "https://localhost:8080/",
          "height": 140
        },
        "id": "hiCX8acRiAWr",
        "outputId": "cff41d19-ea5c-4675-9645-0c2929ea82dc"
      },
      "execution_count": 4,
      "outputs": [
        {
          "output_type": "execute_result",
          "data": {
            "text/plain": [
              "'\\n\"Task: Extract information from a project description to create a structured dictionary, following the provided JSON schema. Focus on identifying wetland impacts based on the given criteria.\\n\\nJSON Schema Overview:\\n\\nwetland_type: Type or descriptor of the wetland (e.g., swamp, marsh).\\nimpact_quantity: Numeric value of the impacted area.\\nimpact_unit: Units of measurement (acres, sq. feet, linear feet).\\nimpact_duration: Duration of impact (permanent, temporary, unknown).\\nimpact_type: Nature of impact (harmful, beneficial, unknown).\\nInstructions:\\n\\nIdentify Wetlands and Impacts: Look for sentences detailing the wetland type and area impacted. Record the type, quantity, and unit.\\nDetermine Impact Duration: Mark \\'permanent\\' or \\'temporary\\' if mentioned with wetland type and area; else, write \\'unknown\\'.\\nAssess Impact Type: Identify if the impact is harmful, beneficial, or unknown.\\nAvoid Double Counting: Be mindful of nested projects or phrases indicating multiple projects. Do not double count impacts.\\nCreate a Dictionary: For each wetland, provide its type, area, duration, and impact type in a structured format.\\nExample Input:\\n\\'The project will affect 3.5 acres of marshland permanently, leading to habitat loss...\\'\\n\\nExpected Output:\\n{\\'wetlands\\': [{\\'wetland_type\\': \\'marshland\\', \\'impact_quantity\\': \\'3.5\\', \\'impact_unit\\': \\'acres\\', \\'impact_duration\\': \\'permanent\\', \\'impact_type\\': \\'loss\\'}]}\\n'"
            ],
            "application/vnd.google.colaboratory.intrinsic+json": {
              "type": "string"
            }
          },
          "metadata": {},
          "execution_count": 4
        }
      ]
    },
    {
      "cell_type": "markdown",
      "source": [
        "#### Input:"
      ],
      "metadata": {
        "id": "o5xTgVnriNqD"
      }
    },
    {
      "cell_type": "code",
      "source": [
        "train_dataset[5]['user']"
      ],
      "metadata": {
        "colab": {
          "base_uri": "https://localhost:8080/",
          "height": 88
        },
        "id": "2Vf3uB0jiQgK",
        "outputId": "5f94e40a-9787-466c-ef59-55825cb57485"
      },
      "execution_count": 5,
      "outputs": [
        {
          "output_type": "execute_result",
          "data": {
            "text/plain": [
              "'Project Description: Clear, grade, excavate, and fill to construct a cemetery and funeral home.This project would require permanent impacts to 6.58 acres of forested palustrine wetlands. The applicant proposes to purchase credits from a mitigation bank to offset any unavoidable losses to wetland functions caused by project implementation.This is a second public notice due to changes in the project plans resulting in more wetland impacts than previously proposed.\\n\\nExtracted Data: '"
            ],
            "application/vnd.google.colaboratory.intrinsic+json": {
              "type": "string"
            }
          },
          "metadata": {},
          "execution_count": 5
        }
      ]
    },
    {
      "cell_type": "markdown",
      "source": [
        "#### Output"
      ],
      "metadata": {
        "id": "eXSSd21LiSXC"
      }
    },
    {
      "cell_type": "code",
      "source": [
        "\n",
        "train_dataset[5]['assistant']"
      ],
      "metadata": {
        "colab": {
          "base_uri": "https://localhost:8080/",
          "height": 53
        },
        "id": "FINCQZqYiTUd",
        "outputId": "86ca3ff4-e9a0-4bdd-d0f7-0d655fe90d09"
      },
      "execution_count": 6,
      "outputs": [
        {
          "output_type": "execute_result",
          "data": {
            "text/plain": [
              "\"{'wetlands': [{'wetland_type': 'forested palustrine wetlands', 'impact_quantity': '6.58', 'impact_unit': 'acres', 'impact_duration': 'permanent', 'impact_type': 'loss'}]}\""
            ],
            "application/vnd.google.colaboratory.intrinsic+json": {
              "type": "string"
            }
          },
          "metadata": {},
          "execution_count": 6
        }
      ]
    },
    {
      "cell_type": "markdown",
      "metadata": {
        "id": "qjNj2dYzWeP9"
      },
      "source": [
        "### Prompt formatting function\n",
        "\n",
        "Change the prompt and output to the format specified for Mistral-7b - particularly, note the beginning of string (bos) and end of string (eos) special tokens."
      ]
    },
    {
      "cell_type": "code",
      "execution_count": 5,
      "metadata": {
        "colab": {
          "base_uri": "https://localhost:8080/",
          "height": 140
        },
        "id": "dPjZcaLbWeP9",
        "outputId": "e37d7f0b-6041-4f62-ff32-089bee35f4a2"
      },
      "outputs": [
        {
          "output_type": "execute_result",
          "data": {
            "text/plain": [
              "'<s>### Instruction: \\n\"Task: Extract information from a project description to create a structured dictionary, following the provided JSON schema. Focus on identifying wetland impacts based on the given criteria.  JSON Schema Overview:  wetland_type: Type or descriptor of the wetland (e.g., swamp, marsh). impact_quantity: Numeric value of the impacted area. impact_unit: Units of measurement (acres, sq. feet, linear feet). impact_duration: Duration of impact (permanent, temporary, unknown). impact_type: Nature of impact (harmful, beneficial, unknown). Instructions:  Identify Wetlands and Impacts: Look for sentences detailing the wetland type and area impacted. Record the type, quantity, and unit. Determine Impact Duration: Mark \\'permanent\\' or \\'temporary\\' if mentioned with wetland type and area; else, write \\'unknown\\'. Assess Impact Type: Identify if the impact is harmful, beneficial, or unknown. Avoid Double Counting: Be mindful of nested projects or phrases indicating multiple projects. Do not double count impacts. Create a Dictionary: For each wetland, provide its type, area, duration, and impact type in a structured format. Example Input: \\'The project will affect 3.5 acres of marshland permanently, leading to habitat loss...\\'  Expected Output: {\\'wetlands\\': [{\\'wetland_type\\': \\'marshland\\', \\'impact_quantity\\': \\'3.5\\', \\'impact_unit\\': \\'acres\\', \\'impact_duration\\': \\'permanent\\', \\'impact_type\\': \\'loss\\'}]}\\n\\n### Input:\\nProject Description: Clear, grade, excavate, and fill to construct a cemetery and funeral home.This project would require permanent impacts to 6.58 acres of forested palustrine wetlands. The applicant proposes to purchase credits from a mitigation bank to offset any unavoidable losses to wetland functions caused by project implementation.This is a second public notice due to changes in the project plans resulting in more wetland impacts than previously proposed.  Extracted Data:\\n\\n### Response:\\n{\\'wetlands\\': [{\\'wetland_type\\': \\'forested palustrine wetlands\\', \\'impact_quantity\\': \\'6.58\\', \\'impact_unit\\': \\'acres\\', \\'impact_duration\\': \\'permanent\\', \\'impact_type\\': \\'loss\\'}]}</s>'"
            ],
            "application/vnd.google.colaboratory.intrinsic+json": {
              "type": "string"
            }
          },
          "metadata": {},
          "execution_count": 5
        }
      ],
      "source": [
        "def create_prompt(sample):\n",
        "    bos_token = \"<s>\"\n",
        "    eos_token = \"</s>\"\n",
        "\n",
        "    # Directly access the 'system', 'user', and 'assistant' messages from the sample\n",
        "    system_message = sample['system'].replace(\"\\n\", \" \").strip()\n",
        "    user_message = sample['user'].replace(\"\\n\", \" \").strip()\n",
        "    assistant_message = sample['assistant'].replace(\"\\n\", \" \").strip()\n",
        "\n",
        "    # Concatenate the prompt according to the specified format\n",
        "    full_prompt = f\"{bos_token}\"\n",
        "    full_prompt += f\"### Instruction: \\n{system_message}\"\n",
        "    full_prompt += f\"\\n\\n### Input:\\n{user_message}\"\n",
        "    full_prompt += f\"\\n\\n### Response:\\n{assistant_message}\"\n",
        "    full_prompt += f\"{eos_token}\"\n",
        "\n",
        "    return full_prompt\n",
        "create_prompt(train_dataset[5])\n"
      ]
    },
    {
      "cell_type": "markdown",
      "metadata": {
        "id": "PlAObx1fWeP9"
      },
      "source": [
        "## Load and Train the Model\n",
        "\n",
        "https://blog.paperspace.com/mistral-7b-fine-tuning/"
      ]
    },
    {
      "cell_type": "markdown",
      "source": [
        "## Quantized LoRA (QLoRA)\n",
        "\n",
        "QLoRA by Dettmers et al., short for quantized LoRA, is a technique that reduces memory usage during finetuning. During backpropagation, QLoRA **quantizes** the pretrained weights to 4-bit precision and uses **paged optimizers** to handle memory spikes.\n",
        "\n",
        "**Democratization of AI**\n",
        "verbatim \"Traditionally, fine-tuning LLMs requires significant computing power and hardware resources, often inaccessible to researchers and smaller institutions. QLoRA bypasses this barrier by leveraging quantization, a process that reduces the size and complexity of LLM parameters. This makes fine-tuning more accessible and resource-efficient.\"https://wandb.ai/sauravmaheshkar/QLoRA/reports/What-is-QLoRA---Vmlldzo2MTI2OTc5\n",
        "\n",
        "\n",
        "This author found he saved 33% of GPU memory when using QLoRA, at a cost of 39% increased training runtime. This is caused by the additional quantization/dequantization steps of the pretrained model weights in QLoRA.\n",
        "\n",
        "Note: Its preferred to use BFloat16, but it wasn't supported on a V100 GPU on Colab, so I worked around this.\n",
        "\n",
        "https://brev.dev/blog/how-qlora-works\n",
        "\n",
        "\n"
      ],
      "metadata": {
        "id": "qLtvHqmtj1pJ"
      }
    },
    {
      "cell_type": "markdown",
      "source": [
        "![image.png](data:image/png;base64,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)"
      ],
      "metadata": {
        "id": "hU2b2gSRkNN9"
      }
    },
    {
      "cell_type": "markdown",
      "source": [
        "### Key idea: 4-Bit Normal Float\n",
        "4-bit NormalFloat or NF is a new information-theoretically optimal data type built on top of Quantile Quantization techniques. 4-Bit NF works by estimating the 2k + 1 (k is the number of bits) quantiles in a 0 to 1 distribution, then normalizing its values into the [-1, 1] range. Once we have that, we can also normalize our neural network weights into the [-1, 1] range and then quantize into the quantiles we got from step 2.\n",
        "\n",
        "‍https://www.mercity.ai/blog-post/guide-to-fine-tuning-llms-with-lora-and-qlora"
      ],
      "metadata": {
        "id": "aAA1JhQEjOjy"
      }
    },
    {
      "cell_type": "code",
      "execution_count": 7,
      "metadata": {
        "colab": {
          "base_uri": "https://localhost:8080/",
          "height": 49,
          "referenced_widgets": [
            "280b60382d7742fd9557f89b9f839c23",
            "eb5bce0106a3482a8cc2ddd35610af83",
            "b3e3608f2d364163a4633e6cda7ad1e7",
            "0d9c9a8790284d898187f5f042ee127d",
            "ed04f5d3746343939e93fa9dfef3591b",
            "3ed18cee80cb425da58f0e32667fd3f9",
            "03c34c8008ed42a38034d06657321fc1",
            "4fea8617eb3141de85f3c1b53778000e",
            "e19927da745e4955b13c754af0b048c9",
            "26dac33880284f75b37b0fed151273ac",
            "b492b41594ea404aa60b48950198a51a"
          ]
        },
        "id": "s0OoPwOHWeP9",
        "outputId": "a4949372-09a4-422c-fa36-e46f7d8c277f"
      },
      "outputs": [
        {
          "output_type": "display_data",
          "data": {
            "text/plain": [
              "Loading checkpoint shards:   0%|          | 0/2 [00:00<?, ?it/s]"
            ],
            "application/vnd.jupyter.widget-view+json": {
              "version_major": 2,
              "version_minor": 0,
              "model_id": "280b60382d7742fd9557f89b9f839c23"
            }
          },
          "metadata": {}
        }
      ],
      "source": [
        "import torch\n",
        "import transformers, accelerate, bitsandbytes\n",
        "from transformers import AutoTokenizer, AutoModelForCausalLM, BitsAndBytesConfig\n",
        "\n",
        "# torch.set_default_device('cuda')\n",
        "\n",
        "# set quantization config\n",
        "nf4_config = BitsAndBytesConfig(\n",
        "   load_in_4bit=True,\n",
        "   bnb_4bit_quant_type=\"nf4\",\n",
        "   bnb_4bit_use_double_quant=True,\n",
        "  #  bnb_4bit_compute_dtype=torch.bfloat16\n",
        ")\n",
        "\n",
        "#select model\n",
        "model_name = \"mistralai/Mistral-7B-Instruct-v0.1\"\n",
        "\n",
        "# \"stabilityai/stablelm-3b-4e1t\" - No quantization?\n",
        "\n",
        "# 'EleutherAI/gpt-neo-1.3B'\n",
        "\n",
        "model = AutoModelForCausalLM.from_pretrained(model_name,\n",
        "                                              device_map='auto',\n",
        "                                              # load_in_4bit=True,\n",
        "                                              quantization_config=nf4_config,\n",
        "                                              use_cache=False)\n",
        "\n",
        "tokenizer = AutoTokenizer.from_pretrained(model_name)\n",
        "    #    padding_side=\"left\",\n",
        "    # add_eos_token=True,\n",
        "    # add_bos_token=True,\n",
        "\n",
        "tokenizer.pad_token = tokenizer.eos_token\n",
        "tokenizer.padding_side = \"right\""
      ]
    },
    {
      "cell_type": "markdown",
      "metadata": {
        "id": "1hfHAK-dWeP-"
      },
      "source": [
        "## Step 3: Tokenization and padding\n",
        "\n",
        "Before training, you need to tokenize your dataset. The tokenizer will convert your text into a format that's suitable for the model to process:\n",
        "\n",
        "\n",
        "**Newline Characters**\n",
        "\n",
        "- When tokenizing text, newline characters are treated as whitespace and are used to separate tokens. For many models, especially those trained on a wide variety of internet text (like GPT, BERT, etc.), encountering newline characters is expected and won't cause issues.\n",
        "\n",
        "- For some tasks, newline characters might carry semantic meaning (e.g., separating paragraphs or items in a list), which could be relevant for the model to understand the structure of the input text.\n",
        "\n",
        "\n",
        "**Note:** Padding - affects compute requirements"
      ]
    },
    {
      "cell_type": "code",
      "execution_count": 15,
      "metadata": {
        "colab": {
          "base_uri": "https://localhost:8080/",
          "height": 49,
          "referenced_widgets": [
            "2593c4d8227c47248a48be5f4fd7eba2",
            "80fb2526cb6143d0b630d7babf43353e",
            "94ad23a5d3174bf79aae34f9e94c34f2",
            "3af203b2641d4c2f9934bc59669a635d",
            "713eece88de54de1874da48652d76bf0",
            "eb761eda062f4f8d9eab85dac75a66b0",
            "43516e0cd023425bb8b4d6e5bacb351e",
            "1a0876040426437b8926418087086073",
            "bb2f985463014d88867266afe581f3a1",
            "6c0e8befbc874215b78530d603251373",
            "bdff1c66a24c4135b61a11bb14a56d28"
          ]
        },
        "id": "1rK_xntCWeP-",
        "outputId": "12adf545-09f4-4f53-e15d-c76dee8c99b1"
      },
      "outputs": [
        {
          "output_type": "display_data",
          "data": {
            "text/plain": [
              "Map:   0%|          | 0/88 [00:00<?, ? examples/s]"
            ],
            "application/vnd.jupyter.widget-view+json": {
              "version_major": 2,
              "version_minor": 0,
              "model_id": "2593c4d8227c47248a48be5f4fd7eba2"
            }
          },
          "metadata": {}
        }
      ],
      "source": [
        "\n",
        "token = \"\"\n",
        "\n",
        "# set max length of sequence\n",
        "max_length=968\n",
        "\n",
        "\n",
        "tokenizer.pad_token = tokenizer.eos_token\n",
        "\n",
        "# Tokenize the dataset\n",
        "def tokenize_function(examples):\n",
        "    return tokenizer(train_dataset[\"user\"],\n",
        "                     max_length=max_length,padding=\"max_length\", truncation=True)\n",
        "\n",
        "tokenized_train_dataset = train_dataset.map(tokenize_function, batched=True)\n",
        "# tokenized_val_dataset = val_dataset.map(tokenize_function, batched=True)\n"
      ]
    },
    {
      "cell_type": "markdown",
      "metadata": {
        "id": "vi3XoOuXWeP-"
      },
      "source": [
        "### Plot a histogram of the distribution of tokens\n",
        "\n",
        "The red vertical line at x = 968 is the `max_length`. Shorter passages are padded with `eos_tokens` and longer passages are split."
      ]
    },
    {
      "cell_type": "code",
      "execution_count": 24,
      "metadata": {
        "colab": {
          "base_uri": "https://localhost:8080/",
          "height": 581
        },
        "id": "aS1p96AoWeP-",
        "outputId": "c5bda48d-9c78-41f2-caa8-8d6a39308951"
      },
      "outputs": [
        {
          "output_type": "stream",
          "name": "stdout",
          "text": [
            "88\n"
          ]
        },
        {
          "output_type": "display_data",
          "data": {
            "text/plain": [
              "<Figure size 1000x600 with 1 Axes>"
            ],
            "image/png": "[encoded data removed]"
          },
          "metadata": {}
        }
      ],
      "source": [
        "import matplotlib.pyplot as plt\n",
        "\n",
        "\n",
        "def plot_data_lengths(tokenized_train_dataset):\n",
        "    lengths = [len(x['user']) for x in tokenized_train_dataset]\n",
        "    # lengths += [len(x['input_ids']) for x in tokenized_val_dataset]\n",
        "    print(len(lengths))\n",
        "\n",
        "    # Plotting the histogram\n",
        "    plt.figure(figsize=(10, 6))\n",
        "    plt.hist(lengths, bins=20, alpha=0.7, color='blue')\n",
        "    plt.xlabel('Length of input_ids')\n",
        "    plt.ylabel('Frequency')\n",
        "    plt.title('Distribution of Lengths of input_ids')\n",
        "    plt.axvline(x=968, color='red')\n",
        "    plt.show()\n",
        "plot_data_lengths(tokenized_train_dataset)\n"
      ]
    },
    {
      "cell_type": "markdown",
      "metadata": {
        "id": "4LRlghKhWeP-"
      },
      "source": [
        "## Set LoRA Configuration\n",
        "\n",
        "\n",
        "Choose the particular layers you want to fine tune - the more layers, the more the compute cost and training time, maybe for negligibly higher performance.\n",
        "\n",
        "As mentioned above, the original paper chose the $Q$ and $V$ layers of the attention mechanism.\n",
        "\n",
        "`r` = rank of the low-rank matrix used in the adapters. Changes the number of parameters trained. In the extreme, full rank would mean full fine-tuning\n",
        "\n",
        "`alpha` = scaling factor for the learned weights. The weight matrix is scaled by alpha/r, and thus a higher value for alpha assigns more weight to the LoRA activations.\n",
        "\n",
        "The values used in the QLoRA paper were `r=64` and `lora_alpha=16`."
      ]
    },
    {
      "cell_type": "code",
      "execution_count": 8,
      "metadata": {
        "id": "CbD-PCcbWeP-"
      },
      "outputs": [],
      "source": [
        "from peft import LoraConfig, get_peft_model\n",
        "\n",
        "peft_config = LoraConfig(\n",
        "    lora_alpha=16,\n",
        "    lora_dropout=0.08,\n",
        "    r=64,\n",
        "    target_modules=[\"q_proj\",\n",
        "        \"k_proj\",\n",
        "        \"v_proj\",\n",
        "        \"o_proj\",\n",
        "    #     \"w1\",\n",
        "    #     \"w2\",\n",
        "    #     \"w3\",\n",
        "    #     \"lm_head\",\n",
        "    ],\n",
        "    bias=\"none\",\n",
        "    task_type=\"CAUSAL_LM\"\n",
        ")"
      ]
    },
    {
      "cell_type": "code",
      "execution_count": 9,
      "metadata": {
        "id": "V-2zdpW0WeP-"
      },
      "outputs": [],
      "source": [
        "## prepare model for kbit training\n",
        "from peft import prepare_model_for_kbit_training\n",
        "\n",
        "\n",
        "model = prepare_model_for_kbit_training(model)\n",
        "\n",
        "# model.to('cuda')"
      ]
    },
    {
      "cell_type": "code",
      "source": [
        "model.device"
      ],
      "metadata": {
        "colab": {
          "base_uri": "https://localhost:8080/"
        },
        "id": "u-rF0ahN7nhc",
        "outputId": "270f5555-42d6-4448-9d90-a957169573ac"
      },
      "execution_count": 18,
      "outputs": [
        {
          "output_type": "execute_result",
          "data": {
            "text/plain": [
              "device(type='cuda', index=0)"
            ]
          },
          "metadata": {},
          "execution_count": 18
        }
      ]
    },
    {
      "cell_type": "code",
      "execution_count": 27,
      "metadata": {
        "id": "cwJE9f2_WeP_"
      },
      "outputs": [],
      "source": [
        "# ONLY RUN this step to see the model - introduces errors\n",
        "\n",
        "model_print = get_peft_model(model, peft_config)\n",
        "model_print"
      ]
    },
    {
      "cell_type": "code",
      "source": [
        "\"\"\"\n",
        "\n",
        "The output of the above cell is like:\n",
        "\n",
        "PeftModelForCausalLM(\n",
        "  (base_model): LoraModel(\n",
        "    (model): MistralForCausalLM(\n",
        "      (model): MistralModel(\n",
        "        (embed_tokens): Embedding(32000, 4096)\n",
        "        (layers): ModuleList(\n",
        "          (0-31): 32 x MistralDecoderLayer(\n",
        "            (self_attn): MistralAttention(\n",
        "              (q_proj): Linear4bit(\n",
        "                (lora_dropout): ModuleDict(\n",
        "                  (default): Dropout(p=0.08, inplace=False)\n",
        "                )\n",
        "                (lora_A): ModuleDict(\n",
        "                  (default): Linear(in_features=4096, out_features=64, bias=False)\n",
        "                )\n",
        "                (lora_B): ModuleDict(\n",
        "                  (default): Linear(in_features=64, out_features=4096, bias=False)\n",
        "                )\n",
        "                (lora_embedding_A): ParameterDict()\n",
        "                (lora_embedding_B): ParameterDict()\n",
        "                (base_layer): Linear4bit(in_features=4096, out_features=4096, bias=False)\n",
        "              )\n",
        "              (k_proj): Linear4bit(\n",
        "                (lora_dropout): ModuleDict(\n",
        "                  (default): Dropout(p=0.08, inplace=False)\n",
        "                )\n",
        "                (lora_A): ModuleDict(\n",
        "                  (default): Linear(in_features=4096, out_features=64, bias=False)\n",
        "                )\n",
        "                (lora_B): ModuleDict(\n",
        "                  (default): Linear(in_features=64, out_features=1024, bias=False)\n",
        "                )\n",
        "                (lora_embedding_A): ParameterDict()\n",
        "                (lora_embedding_B): ParameterDict()\n",
        "                (base_layer): Linear4bit(in_features=4096, out_features=1024, bias=False)\n",
        "              )\n",
        "              (v_proj): Linear4bit(\n",
        "                (lora_dropout): ModuleDict(\n",
        "                  (default): Dropout(p=0.08, inplace=False)\n",
        "                )\n",
        "                (lora_A): ModuleDict(\n",
        "                  (default): Linear(in_features=4096, out_features=64, bias=False)\n",
        "                )\n",
        "                (lora_B): ModuleDict(\n",
        "                  (default): Linear(in_features=64, out_features=1024, bias=False)\n",
        "                )\n",
        "                (lora_embedding_A): ParameterDict()\n",
        "                (lora_embedding_B): ParameterDict()\n",
        "                (base_layer): Linear4bit(in_features=4096, out_features=1024, bias=False)\n",
        "              )\n",
        "              (o_proj): Linear4bit(\n",
        "                (lora_dropout): ModuleDict(\n",
        "                  (default): Dropout(p=0.08, inplace=False)\n",
        "                  ...\n",
        "                  ...\n",
        " \"\"\""
      ],
      "metadata": {
        "id": "suYxn-8F1Zz4"
      },
      "execution_count": 28,
      "outputs": []
    },
    {
      "cell_type": "markdown",
      "metadata": {
        "id": "U4sWSumWWeP_"
      },
      "source": [
        "### How many trainable parameters?\n",
        "\n",
        "Approx. 54.5 million out of ~7.2 billion (0.74 %)"
      ]
    },
    {
      "cell_type": "code",
      "execution_count": 30,
      "metadata": {
        "colab": {
          "base_uri": "https://localhost:8080/"
        },
        "id": "mw6aG5JCWeP_",
        "outputId": "b6a2f684-f5a1-47f5-f6d1-bd9c7009ade3"
      },
      "outputs": [
        {
          "output_type": "stream",
          "name": "stdout",
          "text": [
            "trainable params: 54,525,952 || all params: 7,296,258,048 || trainable%: 0.7473139195638273\n"
          ]
        }
      ],
      "source": [
        "model_print.print_trainable_parameters()"
      ]
    },
    {
      "cell_type": "markdown",
      "metadata": {
        "id": "eRRWgP_KWeP_"
      },
      "source": [
        "### Training hyperparameters\n",
        "\n",
        "\n",
        "Use the `transformers` trainer. Full list of parameter [here](https://github.com/huggingface/transformers/blob/v4.15.0/src/transformers/training_args.py#L73)"
      ]
    },
    {
      "cell_type": "code",
      "execution_count": 10,
      "metadata": {
        "id": "H1S32hNWWeP_"
      },
      "outputs": [],
      "source": [
        "from transformers import TrainingArguments\n",
        "args = TrainingArguments(\n",
        "  output_dir = \"mistral_instruct_generation\",\n",
        "  #num_train_epochs=5,\n",
        "  max_steps = 200,\n",
        "  per_device_train_batch_size = 1,\n",
        "  gradient_accumulation_steps = 4,\n",
        "  # gradient_checkpointing = True,\n",
        "  fp16 = True,\n",
        "  # gradient_checkpointing_steps = 10,\n",
        "  warmup_steps = 0.03,\n",
        "  logging_steps=10,\n",
        "  save_strategy=\"epoch\",\n",
        "  #evaluation_strategy=\"epoch\",\n",
        "  evaluation_strategy=\"steps\",\n",
        "  eval_steps=40,\n",
        "  learning_rate=2e-4,\n",
        "  bf16=False,\n",
        "  lr_scheduler_type='constant',\n",
        ")"
      ]
    },
    {
      "cell_type": "markdown",
      "metadata": {
        "id": "cFpMct-tWeP_"
      },
      "source": []
    },
    {
      "cell_type": "markdown",
      "metadata": {
        "id": "CCLkkK_IWeP_"
      },
      "source": [
        "## Train the Model\n",
        "\n",
        "\n",
        "Use the huggingface `trl` module.\n",
        "\n"
      ]
    },
    {
      "cell_type": "code",
      "execution_count": 11,
      "metadata": {
        "colab": {
          "base_uri": "https://localhost:8080/"
        },
        "id": "6izISc-RWeP_",
        "outputId": "1c21f529-c4ef-49f2-e426-a65b41939bfb"
      },
      "outputs": [
        {
          "output_type": "stream",
          "name": "stderr",
          "text": [
            "/usr/local/lib/python3.10/dist-packages/trl/trainer/ppo_config.py:141: UserWarning: The `optimize_cuda_cache` arguement will be deprecated soon, please use `optimize_device_cache` instead.\n",
            "  warnings.warn(\n",
            "/usr/local/lib/python3.10/dist-packages/trl/trainer/utils.py:548: UserWarning: The passed formatting_func has more than one argument. Usually that function should have a single argument `example` which corresponds to the dictionary returned by each element of the dataset. Make sure you know what you are doing.\n",
            "  warnings.warn(\n",
            "/usr/local/lib/python3.10/dist-packages/trl/trainer/sft_trainer.py:267: UserWarning: You passed `packing=True` to the SFTTrainer, and you are training your model with `max_steps` strategy. The dataset will be iterated until the `max_steps` are reached.\n",
            "  warnings.warn(\n"
          ]
        }
      ],
      "source": [
        "from trl import SFTTrainer\n",
        "\n",
        "max_seq_length = 968\n",
        "\n",
        "trainer = SFTTrainer(\n",
        "  model=model,\n",
        "  peft_config=peft_config,\n",
        "  max_seq_length=max_seq_length,\n",
        "  tokenizer=tokenizer,\n",
        "  packing=True,\n",
        "  formatting_func=create_prompt,\n",
        "  args=args,\n",
        "  dataset_text_field=\"text\",\n",
        "  train_dataset=train_dataset,\n",
        "  eval_dataset= val_dataset,\n",
        "  # instruct_tune_dataset[\"test\"]\n",
        ")"
      ]
    },
    {
      "cell_type": "code",
      "execution_count": 14,
      "metadata": {
        "id": "hbocXORGWeP_"
      },
      "outputs": [],
      "source": [
        "import time\n",
        "start = time.time()\n",
        "trainer.train()\n",
        "print(time.time()- start)"
      ]
    },
    {
      "cell_type": "markdown",
      "metadata": {
        "id": "2iTxUbvRWeQA"
      },
      "source": [
        "### Save trained model."
      ]
    },
    {
      "cell_type": "code",
      "execution_count": 13,
      "metadata": {
        "colab": {
          "base_uri": "https://localhost:8080/",
          "height": 438,
          "referenced_widgets": [
            "d7b00d8492db436fb2d7dd340d9935a8",
            "bfe4b4cac9be4d1688cfddbf507f64a2",
            "6acf8143e5434041a23aaa9f1fc36bf2",
            "c29460d27e62404aa0607ae54e1e96b7",
            "4b037a177f514bb49724f6f421b152d7",
            "b07eb872432a4dd3abba97b8052d28a3",
            "2b6992fbe2ea4c5e9400da1e6aa2c2b5",
            "63c57c9cc82a4eb7b0507a67ce448cc9"
          ]
        },
        "id": "cvXUpYB5WeQA",
        "outputId": "928d8eff-bf92-487f-96e6-f2b7b50dfb58"
      },
      "outputs": [
        {
          "output_type": "display_data",
          "data": {
            "text/plain": [
              "VBox(children=(Label(value='0.002 MB of 0.002 MB uploaded\\r'), FloatProgress(value=1.0, max=1.0)))"
            ],
            "application/vnd.jupyter.widget-view+json": {
              "version_major": 2,
              "version_minor": 0,
              "model_id": "d7b00d8492db436fb2d7dd340d9935a8"
            }
          },
          "metadata": {}
        },
        {
          "output_type": "display_data",
          "data": {
            "text/plain": [
              "<IPython.core.display.HTML object>"
            ],
            "text/html": [
              "<style>\n",
              "    table.wandb td:nth-child(1) { padding: 0 10px; text-align: left ; width: auto;} td:nth-child(2) {text-align: left ; width: 100%}\n",
              "    .wandb-row { display: flex; flex-direction: row; flex-wrap: wrap; justify-content: flex-start; width: 100% }\n",
              "    .wandb-col { display: flex; flex-direction: column; flex-basis: 100%; flex: 1; padding: 10px; }\n",
              "    </style>\n",
              "<div class=\"wandb-row\"><div class=\"wandb-col\"><h3>Run history:</h3><br/><table class=\"wandb\"><tr><td>eval/loss</td><td>▃▁▂▆█</td></tr><tr><td>eval/runtime</td><td>██▄▄▁</td></tr><tr><td>eval/samples_per_second</td><td>▁▁▅▅█</td></tr><tr><td>eval/steps_per_second</td><td>▁▁▅▅█</td></tr><tr><td>train/epoch</td><td>▁▁▂▂▂▂▃▃▄▄▄▄▅▅▅▅▆▆▇▇▇▇████</td></tr><tr><td>train/global_step</td><td>▁▁▂▂▂▂▃▃▄▄▄▄▅▅▅▅▆▆▇▇▇▇████</td></tr><tr><td>train/learning_rate</td><td>▁▁▁▁▁▁▁▁▁▁▁▁▁▁▁▁▁▁▁▁</td></tr><tr><td>train/loss</td><td>█▅▅▄▄▄▄▃▃▃▃▂▂▂▂▂▂▁▁▁</td></tr><tr><td>train/total_flos</td><td>▁</td></tr><tr><td>train/train_loss</td><td>▁</td></tr><tr><td>train/train_runtime</td><td>▁</td></tr><tr><td>train/train_samples_per_second</td><td>▁</td></tr><tr><td>train/train_steps_per_second</td><td>▁</td></tr></table><br/></div><div class=\"wandb-col\"><h3>Run summary:</h3><br/><table class=\"wandb\"><tr><td>eval/loss</td><td>1.13382</td></tr><tr><td>eval/runtime</td><td>6.1382</td></tr><tr><td>eval/samples_per_second</td><td>3.421</td></tr><tr><td>eval/steps_per_second</td><td>0.489</td></tr><tr><td>train/epoch</td><td>9.09</td></tr><tr><td>train/global_step</td><td>200</td></tr><tr><td>train/learning_rate</td><td>0.0002</td></tr><tr><td>train/loss</td><td>0.2873</td></tr><tr><td>train/total_flos</td><td>3.32923204534272e+16</td></tr><tr><td>train/train_loss</td><td>0.66059</td></tr><tr><td>train/train_runtime</td><td>1086.3191</td></tr><tr><td>train/train_samples_per_second</td><td>0.736</td></tr><tr><td>train/train_steps_per_second</td><td>0.184</td></tr></table><br/></div></div>"
            ]
          },
          "metadata": {}
        },
        {
          "output_type": "display_data",
          "data": {
            "text/plain": [
              "<IPython.core.display.HTML object>"
            ],
            "text/html": [
              " View run <strong style=\"color:#cdcd00\">vibrant-galaxy-2</strong> at: <a href='https://wandb.ai/hk939/mistral-7b-usace-finetune_v2/runs/1wf7pa3q' target=\"_blank\">https://wandb.ai/hk939/mistral-7b-usace-finetune_v2/runs/1wf7pa3q</a><br/>Synced 5 W&B file(s), 0 media file(s), 0 artifact file(s) and 0 other file(s)"
            ]
          },
          "metadata": {}
        },
        {
          "output_type": "display_data",
          "data": {
            "text/plain": [
              "<IPython.core.display.HTML object>"
            ],
            "text/html": [
              "Find logs at: <code>./wandb/run-20240321_140109-1wf7pa3q/logs</code>"
            ]
          },
          "metadata": {}
        }
      ],
      "source": [
        "# save model\n",
        "trainer.model.save_pretrained(\"mistral_ft_8mar\")\n",
        "wandb.finish()\n",
        "model.config.use_cache = True"
      ]
    },
    {
      "cell_type": "markdown",
      "metadata": {
        "id": "ziY19sqAWeQA"
      },
      "source": [
        "## Inference"
      ]
    },
    {
      "cell_type": "code",
      "execution_count": 14,
      "metadata": {
        "colab": {
          "base_uri": "https://localhost:8080/"
        },
        "id": "DztoyBh3WeQA",
        "outputId": "326bfabb-9ee0-4def-b2f9-8a23a4dd39e1"
      },
      "outputs": [
        {
          "output_type": "stream",
          "name": "stderr",
          "text": [
            "Setting `pad_token_id` to `eos_token_id`:2 for open-end generation.\n"
          ]
        },
        {
          "output_type": "stream",
          "name": "stdout",
          "text": [
            "<s>[INST] Extract to JSON: The applicant has requested Department of the Army authorization to clear, grade and fill in order to expand an ex isting sand and gravel mining operation in Grangeville, Louisian a.The proposed sand and gra vel pits will encompass approximately 56.5 ac res and will be dug to adepth of 35 feet with 3:1 side slopes.Approximately 47,430 cubic yards of dirt, sand and gravel will be excavated and placed on upland areas of the site.It is anticipated that the proposed activity will impact approximately 1.47 acres of forested wetlands.It is presumed that the applicant has designed the project to a void and minimize direct and secondary adverse impacts tothe maximum extent practicable .As compensation forunavoidable wetland impacts, the applicant proposes to mitigatein-kind wetland credits from a Corps approved mitigat ion bank located in the watershed. [/INST] {\n",
            "\"wetlands\": [\n",
            "{\n",
            "\"type\": \"forested wetlands\",\n",
            "\"impact_quantity\": \"1.47\",\n",
            "\"impact_unit\": \"acres\",\n",
            "\"impact_duration\": \"unknown\",\n",
            "\"impact_type\": \"loss\"\n",
            "}\n",
            "]\n",
            "}\n"
          ]
        }
      ],
      "source": [
        "# logging.set_verbosity(logging.CRITICAL)\n",
        "from transformers import pipeline\n",
        "prompt = \"Extract to JSON: The applicant has requested Department of the Army authorization to clear, grade and fill in order to expand an ex isting sand and gravel mining operation in Grangeville, Louisian a.The proposed sand and gra vel pits will encompass approximately 56.5 acres and will be dug to adepth of 35 feet with 3:1 side slopes. It is anticipated that the proposed activity will impact approximately 1.47 acres of forested wetlands.\"\n",
        "pipe = pipeline(task=\"text-generation\", model=model, tokenizer=tokenizer, max_length=600)\n",
        "result = pipe(f\"<s>[INST] {prompt} [/INST]\")\n",
        "print(result[0]['generated_text'])"
      ]
    },
    {
      "cell_type": "markdown",
      "source": [
        "## Evaluation"
      ],
      "metadata": {
        "id": "U5tHXPy846Oe"
      }
    }
  ],
  "metadata": {
    "kernelspec": {
      "display_name": "Python 3",
      "name": "python3"
    },
    "language_info": {
      "codemirror_mode": {
        "name": "ipython",
        "version": 3
      },
      "file_extension": ".py",
      "mimetype": "text/x-python",
      "name": "python",
      "nbconvert_exporter": "python",
      "pygments_lexer": "ipython3",
      "version": "3.10.2"
    },
    "colab": {
      "provenance": [],
      "machine_shape": "hm",
      "gpuType": "V100",
      "include_colab_link": true
    },
    "accelerator": "GPU",
    "widgets": {
      "application/vnd.jupyter.widget-state+json": {
        "280b60382d7742fd9557f89b9f839c23": {
          "model_module": "@jupyter-widgets/controls",
          "model_name": "HBoxModel",
          "model_module_version": "1.5.0",
          "state": {
            "_dom_classes": [],
            "_model_module": "@jupyter-widgets/controls",
            "_model_module_version": "1.5.0",
            "_model_name": "HBoxModel",
            "_view_count": null,
            "_view_module": "@jupyter-widgets/controls",
            "_view_module_version": "1.5.0",
            "_view_name": "HBoxView",
            "box_style": "",
            "children": [
              "IPY_MODEL_eb5bce0106a3482a8cc2ddd35610af83",
              "IPY_MODEL_b3e3608f2d364163a4633e6cda7ad1e7",
              "IPY_MODEL_0d9c9a8790284d898187f5f042ee127d"
            ],
            "layout": "IPY_MODEL_ed04f5d3746343939e93fa9dfef3591b"
          }
        },
        "eb5bce0106a3482a8cc2ddd35610af83": {
          "model_module": "@jupyter-widgets/controls",
          "model_name": "HTMLModel",
          "model_module_version": "1.5.0",
          "state": {
            "_dom_classes": [],
            "_model_module": "@jupyter-widgets/controls",
            "_model_module_version": "1.5.0",
            "_model_name": "HTMLModel",
            "_view_count": null,
            "_view_module": "@jupyter-widgets/controls",
            "_view_module_version": "1.5.0",
            "_view_name": "HTMLView",
            "description": "",
            "description_tooltip": null,
            "layout": "IPY_MODEL_3ed18cee80cb425da58f0e32667fd3f9",
            "placeholder": "​",
            "style": "IPY_MODEL_03c34c8008ed42a38034d06657321fc1",
            "value": "Loading checkpoint shards: 100%"
          }
        },
        "b3e3608f2d364163a4633e6cda7ad1e7": {
          "model_module": "@jupyter-widgets/controls",
          "model_name": "FloatProgressModel",
          "model_module_version": "1.5.0",
          "state": {
            "_dom_classes": [],
            "_model_module": "@jupyter-widgets/controls",
            "_model_module_version": "1.5.0",
            "_model_name": "FloatProgressModel",
            "_view_count": null,
            "_view_module": "@jupyter-widgets/controls",
            "_view_module_version": "1.5.0",
            "_view_name": "ProgressView",
            "bar_style": "success",
            "description": "",
            "description_tooltip": null,
            "layout": "IPY_MODEL_4fea8617eb3141de85f3c1b53778000e",
            "max": 2,
            "min": 0,
            "orientation": "horizontal",
            "style": "IPY_MODEL_e19927da745e4955b13c754af0b048c9",
            "value": 2
          }
        },
        "0d9c9a8790284d898187f5f042ee127d": {
          "model_module": "@jupyter-widgets/controls",
          "model_name": "HTMLModel",
          "model_module_version": "1.5.0",
          "state": {
            "_dom_classes": [],
            "_model_module": "@jupyter-widgets/controls",
            "_model_module_version": "1.5.0",
            "_model_name": "HTMLModel",
            "_view_count": null,
            "_view_module": "@jupyter-widgets/controls",
            "_view_module_version": "1.5.0",
            "_view_name": "HTMLView",
            "description": "",
            "description_tooltip": null,
            "layout": "IPY_MODEL_26dac33880284f75b37b0fed151273ac",
            "placeholder": "​",
            "style": "IPY_MODEL_b492b41594ea404aa60b48950198a51a",
            "value": " 2/2 [00:09&lt;00:00,  4.48s/it]"
          }
        },
        "ed04f5d3746343939e93fa9dfef3591b": {
          "model_module": "@jupyter-widgets/base",
          "model_name": "LayoutModel",
          "model_module_version": "1.2.0",
          "state": {
            "_model_module": "@jupyter-widgets/base",
            "_model_module_version": "1.2.0",
            "_model_name": "LayoutModel",
            "_view_count": null,
            "_view_module": "@jupyter-widgets/base",
            "_view_module_version": "1.2.0",
            "_view_name": "LayoutView",
            "align_content": null,
            "align_items": null,
            "align_self": null,
            "border": null,
            "bottom": null,
            "display": null,
            "flex": null,
            "flex_flow": null,
            "grid_area": null,
            "grid_auto_columns": null,
            "grid_auto_flow": null,
            "grid_auto_rows": null,
            "grid_column": null,
            "grid_gap": null,
            "grid_row": null,
            "grid_template_areas": null,
            "grid_template_columns": null,
            "grid_template_rows": null,
            "height": null,
            "justify_content": null,
            "justify_items": null,
            "left": null,
            "margin": null,
            "max_height": null,
            "max_width": null,
            "min_height": null,
            "min_width": null,
            "object_fit": null,
            "object_position": null,
            "order": null,
            "overflow": null,
            "overflow_x": null,
            "overflow_y": null,
            "padding": null,
            "right": null,
            "top": null,
            "visibility": null,
            "width": null
          }
        },
        "3ed18cee80cb425da58f0e32667fd3f9": {
          "model_module": "@jupyter-widgets/base",
          "model_name": "LayoutModel",
          "model_module_version": "1.2.0",
          "state": {
            "_model_module": "@jupyter-widgets/base",
            "_model_module_version": "1.2.0",
            "_model_name": "LayoutModel",
            "_view_count": null,
            "_view_module": "@jupyter-widgets/base",
            "_view_module_version": "1.2.0",
            "_view_name": "LayoutView",
            "align_content": null,
            "align_items": null,
            "align_self": null,
            "border": null,
            "bottom": null,
            "display": null,
            "flex": null,
            "flex_flow": null,
            "grid_area": null,
            "grid_auto_columns": null,
            "grid_auto_flow": null,
            "grid_auto_rows": null,
            "grid_column": null,
            "grid_gap": null,
            "grid_row": null,
            "grid_template_areas": null,
            "grid_template_columns": null,
            "grid_template_rows": null,
            "height": null,
            "justify_content": null,
            "justify_items": null,
            "left": null,
            "margin": null,
            "max_height": null,
            "max_width": null,
            "min_height": null,
            "min_width": null,
            "object_fit": null,
            "object_position": null,
            "order": null,
            "overflow": null,
            "overflow_x": null,
            "overflow_y": null,
            "padding": null,
            "right": null,
            "top": null,
            "visibility": null,
            "width": null
          }
        },
        "03c34c8008ed42a38034d06657321fc1": {
          "model_module": "@jupyter-widgets/controls",
          "model_name": "DescriptionStyleModel",
          "model_module_version": "1.5.0",
          "state": {
            "_model_module": "@jupyter-widgets/controls",
            "_model_module_version": "1.5.0",
            "_model_name": "DescriptionStyleModel",
            "_view_count": null,
            "_view_module": "@jupyter-widgets/base",
            "_view_module_version": "1.2.0",
            "_view_name": "StyleView",
            "description_width": ""
          }
        },
        "4fea8617eb3141de85f3c1b53778000e": {
          "model_module": "@jupyter-widgets/base",
          "model_name": "LayoutModel",
          "model_module_version": "1.2.0",
          "state": {
            "_model_module": "@jupyter-widgets/base",
            "_model_module_version": "1.2.0",
            "_model_name": "LayoutModel",
            "_view_count": null,
            "_view_module": "@jupyter-widgets/base",
            "_view_module_version": "1.2.0",
            "_view_name": "LayoutView",
            "align_content": null,
            "align_items": null,
            "align_self": null,
            "border": null,
            "bottom": null,
            "display": null,
            "flex": null,
            "flex_flow": null,
            "grid_area": null,
            "grid_auto_columns": null,
            "grid_auto_flow": null,
            "grid_auto_rows": null,
            "grid_column": null,
            "grid_gap": null,
            "grid_row": null,
            "grid_template_areas": null,
            "grid_template_columns": null,
            "grid_template_rows": null,
            "height": null,
            "justify_content": null,
            "justify_items": null,
            "left": null,
            "margin": null,
            "max_height": null,
            "max_width": null,
            "min_height": null,
            "min_width": null,
            "object_fit": null,
            "object_position": null,
            "order": null,
            "overflow": null,
            "overflow_x": null,
            "overflow_y": null,
            "padding": null,
            "right": null,
            "top": null,
            "visibility": null,
            "width": null
          }
        },
        "e19927da745e4955b13c754af0b048c9": {
          "model_module": "@jupyter-widgets/controls",
          "model_name": "ProgressStyleModel",
          "model_module_version": "1.5.0",
          "state": {
            "_model_module": "@jupyter-widgets/controls",
            "_model_module_version": "1.5.0",
            "_model_name": "ProgressStyleModel",
            "_view_count": null,
            "_view_module": "@jupyter-widgets/base",
            "_view_module_version": "1.2.0",
            "_view_name": "StyleView",
            "bar_color": null,
            "description_width": ""
          }
        },
        "26dac33880284f75b37b0fed151273ac": {
          "model_module": "@jupyter-widgets/base",
          "model_name": "LayoutModel",
          "model_module_version": "1.2.0",
          "state": {
            "_model_module": "@jupyter-widgets/base",
            "_model_module_version": "1.2.0",
            "_model_name": "LayoutModel",
            "_view_count": null,
            "_view_module": "@jupyter-widgets/base",
            "_view_module_version": "1.2.0",
            "_view_name": "LayoutView",
            "align_content": null,
            "align_items": null,
            "align_self": null,
            "border": null,
            "bottom": null,
            "display": null,
            "flex": null,
            "flex_flow": null,
            "grid_area": null,
            "grid_auto_columns": null,
            "grid_auto_flow": null,
            "grid_auto_rows": null,
            "grid_column": null,
            "grid_gap": null,
            "grid_row": null,
            "grid_template_areas": null,
            "grid_template_columns": null,
            "grid_template_rows": null,
            "height": null,
            "justify_content": null,
            "justify_items": null,
            "left": null,
            "margin": null,
            "max_height": null,
            "max_width": null,
            "min_height": null,
            "min_width": null,
            "object_fit": null,
            "object_position": null,
            "order": null,
            "overflow": null,
            "overflow_x": null,
            "overflow_y": null,
            "padding": null,
            "right": null,
            "top": null,
            "visibility": null,
            "width": null
          }
        },
        "b492b41594ea404aa60b48950198a51a": {
          "model_module": "@jupyter-widgets/controls",
          "model_name": "DescriptionStyleModel",
          "model_module_version": "1.5.0",
          "state": {
            "_model_module": "@jupyter-widgets/controls",
            "_model_module_version": "1.5.0",
            "_model_name": "DescriptionStyleModel",
            "_view_count": null,
            "_view_module": "@jupyter-widgets/base",
            "_view_module_version": "1.2.0",
            "_view_name": "StyleView",
            "description_width": ""
          }
        },
        "2593c4d8227c47248a48be5f4fd7eba2": {
          "model_module": "@jupyter-widgets/controls",
          "model_name": "HBoxModel",
          "model_module_version": "1.5.0",
          "state": {
            "_dom_classes": [],
            "_model_module": "@jupyter-widgets/controls",
            "_model_module_version": "1.5.0",
            "_model_name": "HBoxModel",
            "_view_count": null,
            "_view_module": "@jupyter-widgets/controls",
            "_view_module_version": "1.5.0",
            "_view_name": "HBoxView",
            "box_style": "",
            "children": [
              "IPY_MODEL_80fb2526cb6143d0b630d7babf43353e",
              "IPY_MODEL_94ad23a5d3174bf79aae34f9e94c34f2",
              "IPY_MODEL_3af203b2641d4c2f9934bc59669a635d"
            ],
            "layout": "IPY_MODEL_713eece88de54de1874da48652d76bf0"
          }
        },
        "80fb2526cb6143d0b630d7babf43353e": {
          "model_module": "@jupyter-widgets/controls",
          "model_name": "HTMLModel",
          "model_module_version": "1.5.0",
          "state": {
            "_dom_classes": [],
            "_model_module": "@jupyter-widgets/controls",
            "_model_module_version": "1.5.0",
            "_model_name": "HTMLModel",
            "_view_count": null,
            "_view_module": "@jupyter-widgets/controls",
            "_view_module_version": "1.5.0",
            "_view_name": "HTMLView",
            "description": "",
            "description_tooltip": null,
            "layout": "IPY_MODEL_eb761eda062f4f8d9eab85dac75a66b0",
            "placeholder": "​",
            "style": "IPY_MODEL_43516e0cd023425bb8b4d6e5bacb351e",
            "value": "Map: 100%"
          }
        },
        "94ad23a5d3174bf79aae34f9e94c34f2": {
          "model_module": "@jupyter-widgets/controls",
          "model_name": "FloatProgressModel",
          "model_module_version": "1.5.0",
          "state": {
            "_dom_classes": [],
            "_model_module": "@jupyter-widgets/controls",
            "_model_module_version": "1.5.0",
            "_model_name": "FloatProgressModel",
            "_view_count": null,
            "_view_module": "@jupyter-widgets/controls",
            "_view_module_version": "1.5.0",
            "_view_name": "ProgressView",
            "bar_style": "success",
            "description": "",
            "description_tooltip": null,
            "layout": "IPY_MODEL_1a0876040426437b8926418087086073",
            "max": 88,
            "min": 0,
            "orientation": "horizontal",
            "style": "IPY_MODEL_bb2f985463014d88867266afe581f3a1",
            "value": 88
          }
        },
        "3af203b2641d4c2f9934bc59669a635d": {
          "model_module": "@jupyter-widgets/controls",
          "model_name": "HTMLModel",
          "model_module_version": "1.5.0",
          "state": {
            "_dom_classes": [],
            "_model_module": "@jupyter-widgets/controls",
            "_model_module_version": "1.5.0",
            "_model_name": "HTMLModel",
            "_view_count": null,
            "_view_module": "@jupyter-widgets/controls",
            "_view_module_version": "1.5.0",
            "_view_name": "HTMLView",
            "description": "",
            "description_tooltip": null,
            "layout": "IPY_MODEL_6c0e8befbc874215b78530d603251373",
            "placeholder": "​",
            "style": "IPY_MODEL_bdff1c66a24c4135b61a11bb14a56d28",
            "value": " 88/88 [00:00&lt;00:00, 1222.55 examples/s]"
          }
        },
        "713eece88de54de1874da48652d76bf0": {
          "model_module": "@jupyter-widgets/base",
          "model_name": "LayoutModel",
          "model_module_version": "1.2.0",
          "state": {
            "_model_module": "@jupyter-widgets/base",
            "_model_module_version": "1.2.0",
            "_model_name": "LayoutModel",
            "_view_count": null,
            "_view_module": "@jupyter-widgets/base",
            "_view_module_version": "1.2.0",
            "_view_name": "LayoutView",
            "align_content": null,
            "align_items": null,
            "align_self": null,
            "border": null,
            "bottom": null,
            "display": null,
            "flex": null,
            "flex_flow": null,
            "grid_area": null,
            "grid_auto_columns": null,
            "grid_auto_flow": null,
            "grid_auto_rows": null,
            "grid_column": null,
            "grid_gap": null,
            "grid_row": null,
            "grid_template_areas": null,
            "grid_template_columns": null,
            "grid_template_rows": null,
            "height": null,
            "justify_content": null,
            "justify_items": null,
            "left": null,
            "margin": null,
            "max_height": null,
            "max_width": null,
            "min_height": null,
            "min_width": null,
            "object_fit": null,
            "object_position": null,
            "order": null,
            "overflow": null,
            "overflow_x": null,
            "overflow_y": null,
            "padding": null,
            "right": null,
            "top": null,
            "visibility": null,
            "width": null
          }
        },
        "eb761eda062f4f8d9eab85dac75a66b0": {
          "model_module": "@jupyter-widgets/base",
          "model_name": "LayoutModel",
          "model_module_version": "1.2.0",
          "state": {
            "_model_module": "@jupyter-widgets/base",
            "_model_module_version": "1.2.0",
            "_model_name": "LayoutModel",
            "_view_count": null,
            "_view_module": "@jupyter-widgets/base",
            "_view_module_version": "1.2.0",
            "_view_name": "LayoutView",
            "align_content": null,
            "align_items": null,
            "align_self": null,
            "border": null,
            "bottom": null,
            "display": null,
            "flex": null,
            "flex_flow": null,
            "grid_area": null,
            "grid_auto_columns": null,
            "grid_auto_flow": null,
            "grid_auto_rows": null,
            "grid_column": null,
            "grid_gap": null,
            "grid_row": null,
            "grid_template_areas": null,
            "grid_template_columns": null,
            "grid_template_rows": null,
            "height": null,
            "justify_content": null,
            "justify_items": null,
            "left": null,
            "margin": null,
            "max_height": null,
            "max_width": null,
            "min_height": null,
            "min_width": null,
            "object_fit": null,
            "object_position": null,
            "order": null,
            "overflow": null,
            "overflow_x": null,
            "overflow_y": null,
            "padding": null,
            "right": null,
            "top": null,
            "visibility": null,
            "width": null
          }
        },
        "43516e0cd023425bb8b4d6e5bacb351e": {
          "model_module": "@jupyter-widgets/controls",
          "model_name": "DescriptionStyleModel",
          "model_module_version": "1.5.0",
          "state": {
            "_model_module": "@jupyter-widgets/controls",
            "_model_module_version": "1.5.0",
            "_model_name": "DescriptionStyleModel",
            "_view_count": null,
            "_view_module": "@jupyter-widgets/base",
            "_view_module_version": "1.2.0",
            "_view_name": "StyleView",
            "description_width": ""
          }
        },
        "1a0876040426437b8926418087086073": {
          "model_module": "@jupyter-widgets/base",
          "model_name": "LayoutModel",
          "model_module_version": "1.2.0",
          "state": {
            "_model_module": "@jupyter-widgets/base",
            "_model_module_version": "1.2.0",
            "_model_name": "LayoutModel",
            "_view_count": null,
            "_view_module": "@jupyter-widgets/base",
            "_view_module_version": "1.2.0",
            "_view_name": "LayoutView",
            "align_content": null,
            "align_items": null,
            "align_self": null,
            "border": null,
            "bottom": null,
            "display": null,
            "flex": null,
            "flex_flow": null,
            "grid_area": null,
            "grid_auto_columns": null,
            "grid_auto_flow": null,
            "grid_auto_rows": null,
            "grid_column": null,
            "grid_gap": null,
            "grid_row": null,
            "grid_template_areas": null,
            "grid_template_columns": null,
            "grid_template_rows": null,
            "height": null,
            "justify_content": null,
            "justify_items": null,
            "left": null,
            "margin": null,
            "max_height": null,
            "max_width": null,
            "min_height": null,
            "min_width": null,
            "object_fit": null,
            "object_position": null,
            "order": null,
            "overflow": null,
            "overflow_x": null,
            "overflow_y": null,
            "padding": null,
            "right": null,
            "top": null,
            "visibility": null,
            "width": null
          }
        },
        "bb2f985463014d88867266afe581f3a1": {
          "model_module": "@jupyter-widgets/controls",
          "model_name": "ProgressStyleModel",
          "model_module_version": "1.5.0",
          "state": {
            "_model_module": "@jupyter-widgets/controls",
            "_model_module_version": "1.5.0",
            "_model_name": "ProgressStyleModel",
            "_view_count": null,
            "_view_module": "@jupyter-widgets/base",
            "_view_module_version": "1.2.0",
            "_view_name": "StyleView",
            "bar_color": null,
            "description_width": ""
          }
        },
        "6c0e8befbc874215b78530d603251373": {
          "model_module": "@jupyter-widgets/base",
          "model_name": "LayoutModel",
          "model_module_version": "1.2.0",
          "state": {
            "_model_module": "@jupyter-widgets/base",
            "_model_module_version": "1.2.0",
            "_model_name": "LayoutModel",
            "_view_count": null,
            "_view_module": "@jupyter-widgets/base",
            "_view_module_version": "1.2.0",
            "_view_name": "LayoutView",
            "align_content": null,
            "align_items": null,
            "align_self": null,
            "border": null,
            "bottom": null,
            "display": null,
            "flex": null,
            "flex_flow": null,
            "grid_area": null,
            "grid_auto_columns": null,
            "grid_auto_flow": null,
            "grid_auto_rows": null,
            "grid_column": null,
            "grid_gap": null,
            "grid_row": null,
            "grid_template_areas": null,
            "grid_template_columns": null,
            "grid_template_rows": null,
            "height": null,
            "justify_content": null,
            "justify_items": null,
            "left": null,
            "margin": null,
            "max_height": null,
            "max_width": null,
            "min_height": null,
            "min_width": null,
            "object_fit": null,
            "object_position": null,
            "order": null,
            "overflow": null,
            "overflow_x": null,
            "overflow_y": null,
            "padding": null,
            "right": null,
            "top": null,
            "visibility": null,
            "width": null
          }
        },
        "bdff1c66a24c4135b61a11bb14a56d28": {
          "model_module": "@jupyter-widgets/controls",
          "model_name": "DescriptionStyleModel",
          "model_module_version": "1.5.0",
          "state": {
            "_model_module": "@jupyter-widgets/controls",
            "_model_module_version": "1.5.0",
            "_model_name": "DescriptionStyleModel",
            "_view_count": null,
            "_view_module": "@jupyter-widgets/base",
            "_view_module_version": "1.2.0",
            "_view_name": "StyleView",
            "description_width": ""
          }
        },
        "d7b00d8492db436fb2d7dd340d9935a8": {
          "model_module": "@jupyter-widgets/controls",
          "model_name": "VBoxModel",
          "model_module_version": "1.5.0",
          "state": {
            "_dom_classes": [],
            "_model_module": "@jupyter-widgets/controls",
            "_model_module_version": "1.5.0",
            "_model_name": "VBoxModel",
            "_view_count": null,
            "_view_module": "@jupyter-widgets/controls",
            "_view_module_version": "1.5.0",
            "_view_name": "VBoxView",
            "box_style": "",
            "children": [
              "IPY_MODEL_bfe4b4cac9be4d1688cfddbf507f64a2",
              "IPY_MODEL_6acf8143e5434041a23aaa9f1fc36bf2"
            ],
            "layout": "IPY_MODEL_c29460d27e62404aa0607ae54e1e96b7"
          }
        },
        "bfe4b4cac9be4d1688cfddbf507f64a2": {
          "model_module": "@jupyter-widgets/controls",
          "model_name": "LabelModel",
          "model_module_version": "1.5.0",
          "state": {
            "_dom_classes": [],
            "_model_module": "@jupyter-widgets/controls",
            "_model_module_version": "1.5.0",
            "_model_name": "LabelModel",
            "_view_count": null,
            "_view_module": "@jupyter-widgets/controls",
            "_view_module_version": "1.5.0",
            "_view_name": "LabelView",
            "description": "",
            "description_tooltip": null,
            "layout": "IPY_MODEL_4b037a177f514bb49724f6f421b152d7",
            "placeholder": "​",
            "style": "IPY_MODEL_b07eb872432a4dd3abba97b8052d28a3",
            "value": "0.240 MB of 0.240 MB uploaded\r"
          }
        },
        "6acf8143e5434041a23aaa9f1fc36bf2": {
          "model_module": "@jupyter-widgets/controls",
          "model_name": "FloatProgressModel",
          "model_module_version": "1.5.0",
          "state": {
            "_dom_classes": [],
            "_model_module": "@jupyter-widgets/controls",
            "_model_module_version": "1.5.0",
            "_model_name": "FloatProgressModel",
            "_view_count": null,
            "_view_module": "@jupyter-widgets/controls",
            "_view_module_version": "1.5.0",
            "_view_name": "ProgressView",
            "bar_style": "",
            "description": "",
            "description_tooltip": null,
            "layout": "IPY_MODEL_2b6992fbe2ea4c5e9400da1e6aa2c2b5",
            "max": 1,
            "min": 0,
            "orientation": "horizontal",
            "style": "IPY_MODEL_63c57c9cc82a4eb7b0507a67ce448cc9",
            "value": 1
          }
        },
        "c29460d27e62404aa0607ae54e1e96b7": {
          "model_module": "@jupyter-widgets/base",
          "model_name": "LayoutModel",
          "model_module_version": "1.2.0",
          "state": {
            "_model_module": "@jupyter-widgets/base",
            "_model_module_version": "1.2.0",
            "_model_name": "LayoutModel",
            "_view_count": null,
            "_view_module": "@jupyter-widgets/base",
            "_view_module_version": "1.2.0",
            "_view_name": "LayoutView",
            "align_content": null,
            "align_items": null,
            "align_self": null,
            "border": null,
            "bottom": null,
            "display": null,
            "flex": null,
            "flex_flow": null,
            "grid_area": null,
            "grid_auto_columns": null,
            "grid_auto_flow": null,
            "grid_auto_rows": null,
            "grid_column": null,
            "grid_gap": null,
            "grid_row": null,
            "grid_template_areas": null,
            "grid_template_columns": null,
            "grid_template_rows": null,
            "height": null,
            "justify_content": null,
            "justify_items": null,
            "left": null,
            "margin": null,
            "max_height": null,
            "max_width": null,
            "min_height": null,
            "min_width": null,
            "object_fit": null,
            "object_position": null,
            "order": null,
            "overflow": null,
            "overflow_x": null,
            "overflow_y": null,
            "padding": null,
            "right": null,
            "top": null,
            "visibility": null,
            "width": null
          }
        },
        "4b037a177f514bb49724f6f421b152d7": {
          "model_module": "@jupyter-widgets/base",
          "model_name": "LayoutModel",
          "model_module_version": "1.2.0",
          "state": {
            "_model_module": "@jupyter-widgets/base",
            "_model_module_version": "1.2.0",
            "_model_name": "LayoutModel",
            "_view_count": null,
            "_view_module": "@jupyter-widgets/base",
            "_view_module_version": "1.2.0",
            "_view_name": "LayoutView",
            "align_content": null,
            "align_items": null,
            "align_self": null,
            "border": null,
            "bottom": null,
            "display": null,
            "flex": null,
            "flex_flow": null,
            "grid_area": null,
            "grid_auto_columns": null,
            "grid_auto_flow": null,
            "grid_auto_rows": null,
            "grid_column": null,
            "grid_gap": null,
            "grid_row": null,
            "grid_template_areas": null,
            "grid_template_columns": null,
            "grid_template_rows": null,
            "height": null,
            "justify_content": null,
            "justify_items": null,
            "left": null,
            "margin": null,
            "max_height": null,
            "max_width": null,
            "min_height": null,
            "min_width": null,
            "object_fit": null,
            "object_position": null,
            "order": null,
            "overflow": null,
            "overflow_x": null,
            "overflow_y": null,
            "padding": null,
            "right": null,
            "top": null,
            "visibility": null,
            "width": null
          }
        },
        "b07eb872432a4dd3abba97b8052d28a3": {
          "model_module": "@jupyter-widgets/controls",
          "model_name": "DescriptionStyleModel",
          "model_module_version": "1.5.0",
          "state": {
            "_model_module": "@jupyter-widgets/controls",
            "_model_module_version": "1.5.0",
            "_model_name": "DescriptionStyleModel",
            "_view_count": null,
            "_view_module": "@jupyter-widgets/base",
            "_view_module_version": "1.2.0",
            "_view_name": "StyleView",
            "description_width": ""
          }
        },
        "2b6992fbe2ea4c5e9400da1e6aa2c2b5": {
          "model_module": "@jupyter-widgets/base",
          "model_name": "LayoutModel",
          "model_module_version": "1.2.0",
          "state": {
            "_model_module": "@jupyter-widgets/base",
            "_model_module_version": "1.2.0",
            "_model_name": "LayoutModel",
            "_view_count": null,
            "_view_module": "@jupyter-widgets/base",
            "_view_module_version": "1.2.0",
            "_view_name": "LayoutView",
            "align_content": null,
            "align_items": null,
            "align_self": null,
            "border": null,
            "bottom": null,
            "display": null,
            "flex": null,
            "flex_flow": null,
            "grid_area": null,
            "grid_auto_columns": null,
            "grid_auto_flow": null,
            "grid_auto_rows": null,
            "grid_column": null,
            "grid_gap": null,
            "grid_row": null,
            "grid_template_areas": null,
            "grid_template_columns": null,
            "grid_template_rows": null,
            "height": null,
            "justify_content": null,
            "justify_items": null,
            "left": null,
            "margin": null,
            "max_height": null,
            "max_width": null,
            "min_height": null,
            "min_width": null,
            "object_fit": null,
            "object_position": null,
            "order": null,
            "overflow": null,
            "overflow_x": null,
            "overflow_y": null,
            "padding": null,
            "right": null,
            "top": null,
            "visibility": null,
            "width": null
          }
        },
        "63c57c9cc82a4eb7b0507a67ce448cc9": {
          "model_module": "@jupyter-widgets/controls",
          "model_name": "ProgressStyleModel",
          "model_module_version": "1.5.0",
          "state": {
            "_model_module": "@jupyter-widgets/controls",
            "_model_module_version": "1.5.0",
            "_model_name": "ProgressStyleModel",
            "_view_count": null,
            "_view_module": "@jupyter-widgets/base",
            "_view_module_version": "1.2.0",
            "_view_name": "StyleView",
            "bar_color": null,
            "description_width": ""
          }
        }
      }
    }
  },
  "nbformat": 4,
  "nbformat_minor": 0
}